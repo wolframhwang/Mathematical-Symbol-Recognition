{
 "cells": [
  {
   "cell_type": "code",
   "execution_count": 1,
   "metadata": {
    "collapsed": true
   },
   "outputs": [],
   "source": [
    "import numpy as np\n",
    "import tensorflow as tf\n",
    "import matplotlib.pyplot as plt\n",
    "import pandas as pd\n",
    "import os\n",
    "import scipy.misc as misc\n",
    "%matplotlib inline"
   ]
  },
  {
   "cell_type": "code",
   "execution_count": 2,
   "metadata": {
    "collapsed": true
   },
   "outputs": [],
   "source": [
    "## data importing\n",
    "\n",
    "X_train=pd.read_csv('train.csv',delimiter=\" \",header=None).as_matrix()\n",
    "y_train = pd.read_csv('trainLabel.csv', delimiter=' ', header=None).as_matrix()\n",
    "\n",
    "X_test =pd.read_csv('test.csv',delimiter=\" \",header=None).as_matrix()\n",
    "y_test =pd.read_csv('testLabel.csv', delimiter=' ', header=None).as_matrix()"
   ]
  },
  {
   "cell_type": "code",
   "execution_count": 3,
   "metadata": {
    "collapsed": true
   },
   "outputs": [],
   "source": [
    "#plt.imshow(X_train[39805].reshape(35,35),cmap=plt.cm.gray)"
   ]
  },
  {
   "cell_type": "code",
   "execution_count": 4,
   "metadata": {
    "collapsed": true
   },
   "outputs": [],
   "source": [
    "sizeInput = X_train.shape[1]  # input vector size\n",
    "OutputVector = 24 # 24개 label\n",
    "\n",
    "# one hot encoding\n",
    "sam = np.eye(OutputVector)\n",
    "\n",
    "train_label=sam[y_train.flatten()-1]\n",
    "test_label =sam[y_test.flatten()-1]"
   ]
  },
  {
   "cell_type": "code",
   "execution_count": 5,
   "metadata": {
    "collapsed": true
   },
   "outputs": [],
   "source": [
    "### CNN 모델링\n",
    "\n",
    "class Model:\n",
    "    \n",
    "    def __init__(self,sess,name):\n",
    "        self.sess = sess\n",
    "        self.name = name\n",
    "        self._build_net()\n",
    "        \n",
    "    def _build_net(self):\n",
    "        \n",
    "        with tf.variable_scope(self.name):\n",
    "            \n",
    "            self.learning_rate=0.7 # 일단 0.5는 잘 된다\n",
    "            self.training = tf.placeholder(tf.bool)\n",
    "            \n",
    "            ### placeholder\n",
    "            self.X = tf.placeholder(tf.float32,[None,sizeInput])\n",
    "            self.Y = tf.placeholder(tf.float32,[None,OutputVector])\n",
    "            # 이미지 형식으로 형태 변환\n",
    "            self.X_img = tf.reshape(self.X,[-1,35,35,1]) \n",
    "            \n",
    "            ## conv layer 1 -> 5*5*32 filter\n",
    "            ## relu activation 함수 사용하고, kernel size는 5*5 , ouput filter 개수가 32개, stride는 1칸씩\n",
    "            ## max pooling 2*2 -> 18*18로 줄여짐\n",
    "            ## dropout with ratio 0.7\n",
    "            \n",
    "            with tf.variable_scope('layer1'):\n",
    "                conv1 = tf.layers.conv2d(self.X_img,filters=32,kernel_size=5,strides=1,\n",
    "                                         padding=\"SAME\",activation=tf.nn.relu) \n",
    "        \n",
    "                pool1 = tf.layers.max_pooling2d(conv1,pool_size=2,strides=2,padding=\"SAME\")\n",
    "            \n",
    "                dropout1 = tf.layers.dropout(pool1,rate=0.7,training=self.training)\n",
    "                \n",
    "            ## conv layer 2 -> 3*3*64 filters\n",
    "            ## relu activation 함수 사용하고, kernel size는 3*3 , ouput filter 개수가 64개, stride는 1칸씩\n",
    "            ## max pooling 2*2 -> 9*9로 줄여짐\n",
    "            ## dropout with ratio 0.7\n",
    "                \n",
    "            with tf.variable_scope('layer2'):\n",
    "                conv2 = tf.layers.conv2d(dropout1,filters=64,kernel_size=3,strides=1,\n",
    "                                        padding=\"SAME\",activation=tf.nn.relu)\n",
    "\n",
    "                pool2 = tf.layers.max_pooling2d(conv2,pool_size=2,strides=2,padding=\"SAME\")\n",
    "                dropout2 = tf.layers.dropout(pool2,rate=0.7,training=self.training)\n",
    "                \n",
    "            ## conv layer 3 -> 3*3*128 filters\n",
    "            ## relu activation 함수 사용하고, kernel size는 3*3 , ouput filter 개수가 128개, stride는 1칸씩\n",
    "            ## max pooling 2*2 -> 5*5로 줄여짐\n",
    "            ## dropout with ratio 0.7\n",
    "\n",
    "            with tf.variable_scope('layer3'):\n",
    "                conv3 = tf.layers.conv2d(dropout2,filters=128,kernel_size=3,strides=1,\n",
    "                                        padding=\"SAME\",activation=tf.nn.relu)\n",
    "                pool3 = tf.layers.max_pooling2d(conv3,pool_size=2,strides=2,padding=\"SAME\")\n",
    "                dropout3 = tf.layers.dropout(pool3,rate=0.7,training=self.training)\n",
    "                  \n",
    "            s1 = int(dropout3.shape[1])\n",
    "                \n",
    "            ###### fully connected layer 마지막으로 만들어줌\n",
    "            ## 5*5*128 -> output 1024개 \n",
    "            ## relu activation 사용함\n",
    "            \n",
    "            with tf.variable_scope('layer4'):\n",
    "                flat = tf.reshape(dropout3,[-1,s1*s1*128])\n",
    "                f4 = tf.layers.dense(flat,units=1024,activation=tf.nn.relu)\n",
    "                dropout4 = tf.layers.dropout(f4,rate=0.5,training=self.training)\n",
    "                \n",
    "            with tf.variable_scope('output'):\n",
    "                self.logits = tf.layers.dense(dropout4,units=OutputVector)\n",
    "                \n",
    "        self.cost = tf.reduce_mean(tf.nn.softmax_cross_entropy_with_logits(logits=self.logits,labels=self.Y))\n",
    "        self.optimizer = tf.train.AdadeltaOptimizer(self.learning_rate).minimize(self.cost)\n",
    "        \n",
    "        correct_prediction=tf.equal(tf.argmax(self.logits,1),tf.argmax(self.Y,1))\n",
    "        self.accuracy = tf.reduce_mean(tf.cast(correct_prediction,tf.float32))\n",
    "        \n",
    "        # 예측값 출력하는 함수\n",
    "    def predict(self,X_test,training=False):\n",
    "        return self.sess.run(self.logits,\n",
    "                            feed_dict={self.X:X_test,self.training:training})\n",
    "        # 정확도 측정\n",
    "    def get_accuracy(self,X_test,Y_test,training=False):\n",
    "        return self.sess.run(self.accuracy,\n",
    "                            feed_dict={self.X:X_test,self.Y:Y_test,self.training:training})\n",
    "        # 학습 함수\n",
    "    def train(self,x_data,y_data,training=True):\n",
    "        return self.sess.run([self.cost,self.optimizer],\n",
    "                            feed_dict={self.X:x_data,self.Y:y_data,self.training:training})"
   ]
  },
  {
   "cell_type": "code",
   "execution_count": 6,
   "metadata": {
    "scrolled": true
   },
   "outputs": [
    {
     "name": "stdout",
     "output_type": "stream",
     "text": [
      "Start Training\n",
      "Epoch: 0001 cost =  2.53455851066\n",
      "Epoch: 0002 cost =  1.52044289615\n",
      "Epoch: 0003 cost =  1.09132176458\n",
      "Epoch: 0004 cost =  0.887891033187\n",
      "Epoch: 0005 cost =  0.767162729747\n",
      "Epoch: 0006 cost =  0.689889017961\n",
      "Epoch: 0007 cost =  0.633653127219\n",
      "Epoch: 0008 cost =  0.59047779381\n",
      "Epoch: 0009 cost =  0.56442138328\n",
      "Epoch: 0010 cost =  0.533582862897\n",
      "Epoch: 0011 cost =  0.5125638579\n",
      "Epoch: 0012 cost =  0.497428015698\n",
      "Epoch: 0013 cost =  0.48114959993\n",
      "Epoch: 0014 cost =  0.464181344264\n",
      "Epoch: 0015 cost =  0.453483451401\n",
      "Epoch: 0016 cost =  0.445172210884\n",
      "Epoch: 0017 cost =  0.436895369585\n",
      "Epoch: 0018 cost =  0.42759700142\n",
      "Epoch: 0019 cost =  0.420647388577\n",
      "Epoch: 0020 cost =  0.417352260657\n",
      "Epoch: 0021 cost =  0.410513260257\n",
      "Epoch: 0022 cost =  0.402869646124\n",
      "Epoch: 0023 cost =  0.394283088008\n",
      "Epoch: 0024 cost =  0.3925855323\n",
      "Epoch: 0025 cost =  0.38829878332\n",
      "Epoch: 0026 cost =  0.380874235277\n",
      "Epoch: 0027 cost =  0.375772222352\n",
      "Epoch: 0028 cost =  0.37559855164\n",
      "Epoch: 0029 cost =  0.370209159713\n",
      "Epoch: 0030 cost =  0.370135534499\n",
      "Epoch: 0031 cost =  0.368530532074\n",
      "Epoch: 0032 cost =  0.363025650906\n",
      "Epoch: 0033 cost =  0.358148554986\n",
      "Epoch: 0034 cost =  0.354638627651\n",
      "Epoch: 0035 cost =  0.355049388567\n",
      "Epoch: 0036 cost =  0.353324084725\n",
      "Epoch: 0037 cost =  0.345816676191\n",
      "Epoch: 0038 cost =  0.346671285042\n",
      "Epoch: 0039 cost =  0.347459388887\n",
      "Epoch: 0040 cost =  0.349136920431\n",
      "Epoch: 0041 cost =  0.342103546663\n",
      "Epoch: 0042 cost =  0.337703528791\n",
      "Epoch: 0043 cost =  0.335814050993\n",
      "Epoch: 0044 cost =  0.337699971157\n",
      "Epoch: 0045 cost =  0.335099193918\n",
      "Epoch: 0046 cost =  0.331514930456\n",
      "Epoch: 0047 cost =  0.331576245439\n",
      "Epoch: 0048 cost =  0.333531393478\n",
      "Epoch: 0049 cost =  0.328758667836\n",
      "Epoch: 0050 cost =  0.328172597379\n",
      "Learning Finished\n"
     ]
    }
   ],
   "source": [
    "config = tf.ConfigProto(\n",
    "        device_count = {'GPU': 0}\n",
    "    )\n",
    "\n",
    "sess = tf.Session(config=config)\n",
    "\n",
    "models = Model(sess,name='m1')\n",
    "\n",
    "sess.run(tf.global_variables_initializer())\n",
    "\n",
    "\n",
    "### hyper parameter\n",
    "\n",
    "\n",
    "batch_size = 200\n",
    "train_epoch = 50\n",
    "\n",
    "num_batch = int(len(X_train)/batch_size)\n",
    "\n",
    "training_acc_cnn=[]\n",
    "test_acc_cnn=[]\n",
    "\n",
    "print(\"Start Training\")\n",
    "\n",
    "for epoch in range(train_epoch):\n",
    "    \n",
    "    p1 = np.random.permutation(len(X_train))\n",
    "    x_data = X_train[p1]\n",
    "    y_data = train_label[p1]\n",
    "    \n",
    "    p2 = np.random.permutation(len(X_test))\n",
    "    x_test = X_test[p2]\n",
    "    y_test = test_label[p2]\n",
    "    \n",
    "    avg_cost=0.\n",
    "    \n",
    "    for i in range(0,num_batch):\n",
    "        batch_xs,batch_ys = x_data[i*batch_size:((i+1)*batch_size)],y_data[i*batch_size:((i+1)*batch_size)]\n",
    "        \n",
    "        c,_ = models.train(batch_xs,batch_ys)\n",
    "        avg_cost += c/(num_batch)\n",
    "        \n",
    "    print('Epoch:', '%04d' % (epoch+1),'cost = ',avg_cost)\n",
    "    \n",
    "    training_acc_cnn.append(models.get_accuracy(x_data,y_data))\n",
    "    test_acc_cnn.append(models.get_accuracy(x_test,y_test))\n",
    "    \n",
    "print('Learning Finished')\n",
    "    \n",
    "sess.close()"
   ]
  },
  {
   "cell_type": "code",
   "execution_count": 7,
   "metadata": {
    "scrolled": true
   },
   "outputs": [
    {
     "data": {
      "text/plain": [
       "<matplotlib.text.Text at 0x7f67c81aef60>"
      ]
     },
     "execution_count": 7,
     "metadata": {},
     "output_type": "execute_result"
    },
    {
     "data": {
      "image/png": "[encoded data removed]",
      "text/plain": [
       "<matplotlib.figure.Figure at 0x7f67c844b748>"
      ]
     },
     "metadata": {},
     "output_type": "display_data"
    }
   ],
   "source": [
    "plt.plot(test_acc,'ro',label=\"test\")\n",
    "plt.plot(test_acc,'r--')\n",
    "plt.ylabel('Accuracy')  # Accuracy label\n",
    "plt.xlabel('Epoch')\n",
    "plt.title('Plot of Test Accuracies')\n",
    "plt.legend()\n",
    "ax = plt.gca()\n",
    "ymin, ymax = ax.get_ylim()\n",
    "xmin, xmax = ax.get_xlim()\n",
    "midXLoc = (xmax - xmin)/2\n",
    "topYLoc = ymax - (ymax-ymin)*0.5\n",
    "plt.text(midXLoc, topYLoc, 'Num Epochs: ' + str(train_epoch) + '\\nBatch Size: ' + str(batch_size), ha='center', va='top')"
   ]
  },
  {
   "cell_type": "markdown",
   "metadata": {
    "collapsed": true
   },
   "source": [
    "## linear regression"
   ]
  },
  {
   "cell_type": "code",
   "execution_count": 8,
   "metadata": {
    "scrolled": true
   },
   "outputs": [
    {
     "name": "stdout",
     "output_type": "stream",
     "text": [
      "Start Training\n",
      "Epoch: 0001 cost =  12.5368963594\n",
      "Epoch: 0002 cost =  11.1066749324\n",
      "Epoch: 0003 cost =  10.8122718059\n",
      "Epoch: 0004 cost =  10.600079443\n",
      "Epoch: 0005 cost =  10.4796810941\n",
      "Epoch: 0006 cost =  10.2084355378\n",
      "Epoch: 0007 cost =  10.43396956\n",
      "Epoch: 0008 cost =  10.3354896325\n",
      "Epoch: 0009 cost =  10.3140766369\n",
      "Epoch: 0010 cost =  10.2536481038\n",
      "Epoch: 0011 cost =  9.685875042\n",
      "Epoch: 0012 cost =  10.2594061473\n",
      "Epoch: 0013 cost =  9.86556856836\n",
      "Epoch: 0014 cost =  10.1289943331\n",
      "Epoch: 0015 cost =  9.88515750847\n",
      "Epoch: 0016 cost =  9.96971853774\n",
      "Epoch: 0017 cost =  10.1063984722\n",
      "Epoch: 0018 cost =  9.97894370256\n",
      "Epoch: 0019 cost =  10.1460589021\n",
      "Epoch: 0020 cost =  9.94465200865\n",
      "Epoch: 0021 cost =  9.61697251593\n",
      "Epoch: 0022 cost =  9.72528738472\n",
      "Epoch: 0023 cost =  9.70471678547\n",
      "Epoch: 0024 cost =  9.71062437613\n",
      "Epoch: 0025 cost =  9.76245982443\n",
      "Epoch: 0026 cost =  9.95797057847\n",
      "Epoch: 0027 cost =  9.73687418262\n",
      "Epoch: 0028 cost =  9.75715004619\n",
      "Epoch: 0029 cost =  9.61372840584\n",
      "Epoch: 0030 cost =  9.65817756509\n",
      "Epoch: 0031 cost =  9.84530390926\n",
      "Epoch: 0032 cost =  9.72404691083\n",
      "Epoch: 0033 cost =  9.82030904473\n",
      "Epoch: 0034 cost =  9.71681233507\n",
      "Epoch: 0035 cost =  9.51087447027\n",
      "Epoch: 0036 cost =  9.69868733296\n",
      "Epoch: 0037 cost =  9.66831924448\n",
      "Epoch: 0038 cost =  9.50006947446\n",
      "Epoch: 0039 cost =  9.5096977416\n",
      "Epoch: 0040 cost =  9.54137550527\n",
      "Epoch: 0041 cost =  9.53448761408\n",
      "Epoch: 0042 cost =  9.79562650134\n",
      "Epoch: 0043 cost =  9.68315943042\n",
      "Epoch: 0044 cost =  9.29237715084\n",
      "Epoch: 0045 cost =  9.61209440711\n",
      "Epoch: 0046 cost =  9.74220452956\n",
      "Epoch: 0047 cost =  9.57742518516\n",
      "Epoch: 0048 cost =  9.35604514069\n",
      "Epoch: 0049 cost =  9.50283445665\n",
      "Epoch: 0050 cost =  9.37474431464\n",
      "Learning Finished\n"
     ]
    }
   ],
   "source": [
    "X = tf.placeholder(tf.float32,[None,sizeInput])\n",
    "Y = tf.placeholder(tf.float32,[None,OutputVector])\n",
    "\n",
    "W = tf.Variable(tf.random_normal([sizeInput,OutputVector],mean=0,stddev=0.1))\n",
    "b = tf.Variable(tf.zeros([OutputVector]))\n",
    "\n",
    "y_hat = tf.matmul(X,W) + b\n",
    "\n",
    "learning_rate = 0.5\n",
    "\n",
    "cost = tf.reduce_mean(tf.nn.softmax_cross_entropy_with_logits(logits=y_hat,labels=Y))\n",
    "optimizer = tf.train.AdamOptimizer(learning_rate).minimize(cost)\n",
    "\n",
    "correct_prediction = tf.equal(tf.argmax(y_hat,1),tf.argmax(Y,1))\n",
    "accuracy = tf.reduce_mean(tf.cast(correct_prediction,tf.float32))\n",
    "\n",
    "\n",
    "batch_size = 200\n",
    "train_epoch = 50\n",
    "\n",
    "num_batch = int(len(X_train)/batch_size)\n",
    "\n",
    "training_acc_reg=[]\n",
    "test_acc_reg=[]\n",
    "\n",
    "print(\"Start Training\")\n",
    "\n",
    "config = tf.ConfigProto(\n",
    "        device_count = {'GPU': 0}\n",
    "    )\n",
    "\n",
    "sess = tf.Session(config=config)\n",
    "\n",
    "sess.run(tf.global_variables_initializer())\n",
    "\n",
    "for epoch in range(train_epoch):\n",
    "    \n",
    "    p1 = np.random.permutation(len(X_train))\n",
    "    x_data = X_train[p1]\n",
    "    y_data = train_label[p1]\n",
    "    \n",
    "    p2 = np.random.permutation(len(X_test))\n",
    "    x_test = X_test[p2]\n",
    "    y_test = test_label[p2]\n",
    "    \n",
    "    avg_cost=0.\n",
    "    \n",
    "    for i in range(0,num_batch):\n",
    "        batch_xs,batch_ys = x_data[i*batch_size:((i+1)*batch_size)],y_data[i*batch_size:((i+1)*batch_size)]\n",
    "        \n",
    "        c,_ = sess.run([cost,optimizer],feed_dict={X:batch_xs,Y:batch_ys})\n",
    "        avg_cost += c/(num_batch)\n",
    "        \n",
    "    print('Epoch:', '%04d' % (epoch+1),'cost = ',avg_cost)\n",
    "    \n",
    "    training_acc_reg.append(sess.run(accuracy,feed_dict={X:x_data,Y:y_data}))\n",
    "    test_acc_reg.append(sess.run(accuracy,feed_dict={X:x_test,Y:y_test}))\n",
    "    \n",
    "print('Learning Finished')"
   ]
  },
  {
   "cell_type": "code",
   "execution_count": 11,
   "metadata": {
    "scrolled": true
   },
   "outputs": [
    {
     "data": {
      "text/plain": [
       "<matplotlib.text.Text at 0x7f15879322e8>"
      ]
     },
     "execution_count": 11,
     "metadata": {},
     "output_type": "execute_result"
    },
    {
     "data": {
      "image/png": "[encoded data removed]",
      "text/plain": [
       "<matplotlib.figure.Figure at 0x7f1587a0b400>"
      ]
     },
     "metadata": {},
     "output_type": "display_data"
    }
   ],
   "source": [
    "plt.plot(test_acc_reg,'bo',label=\"test_reg\")\n",
    "plt.plot(test_acc_reg,'b--')\n",
    "plt.plot(test_acc_cnn,'ro',label=\"test_cnn\")\n",
    "plt.plot(test_acc_cnn,'r--')\n",
    "plt.ylabel('Accuracy')  # Accuracy label\n",
    "plt.xlabel('Epoch')\n",
    "plt.title('Plot of Test Accuracies Reg vs CNN')\n",
    "plt.legend()\n",
    "ax = plt.gca()\n",
    "ymin, ymax = ax.get_ylim()\n",
    "xmin, xmax = ax.get_xlim()\n",
    "midXLoc = (xmax - xmin)/2\n",
    "topYLoc = ymax - (ymax-ymin)*0.3\n",
    "plt.text(midXLoc, topYLoc, 'Num Epochs: ' + str(train_epoch) + '\\nBatch Size: ' + str(batch_size), ha='center', va='top')"
   ]
  },
  {
   "cell_type": "code",
   "execution_count": null,
   "metadata": {
    "collapsed": true
   },
   "outputs": [],
   "source": [
    "plt.savefig('Code1_test_error', dpi=300)"
   ]
  },
  {
   "cell_type": "code",
   "execution_count": null,
   "metadata": {
    "collapsed": true
   },
   "outputs": [],
   "source": [
    "np.max(test_acc_cnn)"
   ]
  }
 ],
 "metadata": {
  "kernelspec": {
   "display_name": "Python 3",
   "language": "python",
   "name": "python3"
  },
  "language_info": {
   "codemirror_mode": {
    "name": "ipython",
    "version": 3
   },
   "file_extension": ".py",
   "mimetype": "text/x-python",
   "name": "python",
   "nbconvert_exporter": "python",
   "pygments_lexer": "ipython3",
   "version": "3.5.2"
  }
 },
 "nbformat": 4,
 "nbformat_minor": 1
}
