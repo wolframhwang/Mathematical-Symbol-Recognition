{
 "cells": [
  {
   "cell_type": "code",
   "execution_count": 1,
   "metadata": {
    "collapsed": true
   },
   "outputs": [],
   "source": [
    "import numpy as np\n",
    "import tensorflow as tf\n",
    "import matplotlib.pyplot as plt\n",
    "import pandas as pd\n",
    "import os\n",
    "import scipy.misc as misc\n",
    "from sklearn.model_selection import train_test_split\n",
    "from sklearn import svm\n",
    "from sklearn.model_selection import cross_val_score\n",
    "%matplotlib inline"
   ]
  },
  {
   "cell_type": "code",
   "execution_count": 2,
   "metadata": {
    "collapsed": true
   },
   "outputs": [],
   "source": [
    "def scale(img):\n",
    "    return (img / 255.)"
   ]
  },
  {
   "cell_type": "code",
   "execution_count": 3,
   "metadata": {
    "scrolled": true
   },
   "outputs": [
    {
     "name": "stderr",
     "output_type": "stream",
     "text": [
      "/usr/local/lib/python3.5/dist-packages/ipykernel_launcher.py:26: DeprecationWarning: `imread` is deprecated!\n",
      "`imread` is deprecated in SciPy 1.0.0, and will be removed in 1.2.0.\n",
      "Use ``imageio.imread`` instead.\n"
     ]
    }
   ],
   "source": [
    "## 데이터 importing \n",
    "## label 을 1과 -1로 코딩\n",
    "\n",
    "pwd = os.getcwd()\n",
    "path = os.path.join(pwd,\"extracted_images\")\n",
    "l1=os.listdir(path = path)\n",
    "\n",
    "X_full=[]\n",
    "Y_full=[]\n",
    "label_list=[]\n",
    "\n",
    "i=1\n",
    "\n",
    "for dir in l1:\n",
    "    if(dir[0]==\".\"): continue # skip .DS_\n",
    "    path1 = os.path.join(path,dir)\n",
    "    allfiles = os.listdir(path1)\n",
    "    #print(dir)\n",
    "    label_list.append(dir[0])\n",
    "    j=0\n",
    "    \n",
    "    for file in allfiles:\n",
    "        if(j>500): break\n",
    "        if(file[0:3]==\".DS\"): continue\n",
    "        t1 = os.path.join(path1,file)\n",
    "        a1 = misc.imread(t1).flatten()\n",
    "        X_full.append(scale(a1))\n",
    "        Y_full.append(i)\n",
    "        j+=1\n",
    "        \n",
    "    if i==1:\n",
    "        i=-1"
   ]
  },
  {
   "cell_type": "code",
   "execution_count": 4,
   "metadata": {
    "collapsed": true
   },
   "outputs": [],
   "source": [
    "## np.array\n",
    "XX=np.array(X_full)\n",
    "YY=np.array(Y_full)"
   ]
  },
  {
   "cell_type": "code",
   "execution_count": 5,
   "metadata": {
    "collapsed": true
   },
   "outputs": [],
   "source": [
    "## Split images\n",
    "X_train,X_test,y_train,y_test = train_test_split(XX,YY,random_state=77,test_size=.15)"
   ]
  },
  {
   "cell_type": "code",
   "execution_count": 6,
   "metadata": {},
   "outputs": [
    {
     "name": "stdout",
     "output_type": "stream",
     "text": [
      "No constraint,No kernel [ 0.98637187  0.98637057  0.98637057]\n"
     ]
    }
   ],
   "source": [
    "# minimum Constraint and linear kernel\n",
    "svm_ini = svm.SVC(C=0.001,kernel='linear')\n",
    "res_ini=cross_val_score(svm_ini,X_train,y_train)\n",
    "print(\"No constraint,No kernel\",res_ini)"
   ]
  },
  {
   "cell_type": "markdown",
   "metadata": {},
   "source": [
    "### polynomial kernel 적용"
   ]
  },
  {
   "cell_type": "code",
   "execution_count": 6,
   "metadata": {},
   "outputs": [
    {
     "name": "stdout",
     "output_type": "stream",
     "text": [
      "[ 0.98637187  0.98637057  0.98637057]\n",
      "[ 0.98637187  0.98637057  0.98637057]\n",
      "[ 0.98894501  0.98913458  0.98875334]\n",
      "[ 0.99056514  0.98951582  0.99123141]\n",
      "[ 0.99094635  0.98922989  0.99075486]\n"
     ]
    }
   ],
   "source": [
    "## cross validation을 통해 적절한 C 선택\n",
    "\n",
    "c_list=[0.1,1,10,20,50]\n",
    "cross_val=[]\n",
    "\n",
    "for C in c_list:\n",
    "    svm1=svm.SVC(C=C,kernel='poly')\n",
    "    res=cross_val_score(svm1,X_train,y_train)\n",
    "    print(res)"
   ]
  },
  {
   "cell_type": "code",
   "execution_count": 7,
   "metadata": {},
   "outputs": [
    {
     "name": "stdout",
     "output_type": "stream",
     "text": [
      "percent accuracy (poly kernel):  0.991539153915\n"
     ]
    }
   ],
   "source": [
    "## model fitting with train data and prediction\n",
    "\n",
    "## poly basis kernel\n",
    "svm_model=svm.SVC(C=20,kernel='poly')\n",
    "svm_model.fit(X_train,y_train)\n",
    "\n",
    "predictions = svm_model.predict(X_test)\n",
    "predictions = np.array(predictions)\n",
    "print(\"percent accuracy (poly kernel): \",np.mean(predictions==y_test))"
   ]
  },
  {
   "cell_type": "markdown",
   "metadata": {},
   "source": [
    "### radial basis kernel 적용"
   ]
  },
  {
   "cell_type": "code",
   "execution_count": 10,
   "metadata": {},
   "outputs": [
    {
     "name": "stdout",
     "output_type": "stream",
     "text": [
      "[ 0.98637187  0.98637057  0.98637057]\n",
      "[ 0.9883732   0.9884674   0.98875334]\n",
      "[ 0.99018393  0.98961113  0.99008769]\n",
      "[ 0.99113695  0.98970644  0.99151735]\n"
     ]
    }
   ],
   "source": [
    "## cross validation을 통해 적절한 C 선택\n",
    "\n",
    "c_list=[1,10,20,50]\n",
    "cross_val=[]\n",
    "\n",
    "for C in c_list:\n",
    "    svm1=svm.SVC(C=C,kernel='rbf')\n",
    "    res=cross_val_score(svm1,X_train,y_train)\n",
    "    print(res)"
   ]
  },
  {
   "cell_type": "code",
   "execution_count": 11,
   "metadata": {},
   "outputs": [
    {
     "name": "stdout",
     "output_type": "stream",
     "text": [
      "percent accuracy (rbf kernel):  0.992799279928\n"
     ]
    }
   ],
   "source": [
    "## model fitting with train data and prediction\n",
    "\n",
    "## radial basis kernel\n",
    "svm_model=svm.SVC(C=50,kernel='rbf')\n",
    "svm_model.fit(X_train,y_train)\n",
    "\n",
    "predictions = svm_model.predict(X_test)\n",
    "predictions = np.array(predictions)\n",
    "print(\"percent accuracy (rbf kernel): \",np.mean(predictions==y_test))"
   ]
  },
  {
   "cell_type": "code",
   "execution_count": 12,
   "metadata": {},
   "outputs": [
    {
     "name": "stdout",
     "output_type": "stream",
     "text": [
      "get support_vectors_\n",
      "[[ 0.98823529  1.          1.         ...,  1.          1.          1.        ]\n",
      " [ 1.          0.99215686  1.         ...,  1.          1.          1.        ]\n",
      " [ 1.          0.99607843  1.         ...,  1.          1.          1.        ]\n",
      " ..., \n",
      " [ 1.          1.          1.         ...,  1.          1.          1.        ]\n",
      " [ 1.          1.          1.         ...,  1.          1.          1.        ]\n",
      " [ 1.          1.          1.         ...,  1.          1.          1.        ]]\n",
      "number of support vectors per class\n",
      "[1035  374]\n"
     ]
    }
   ],
   "source": [
    "## support vector와, 클래스별 support vector 개수 출력\n",
    "print (\"get support_vectors_\")\n",
    "print (svm_model.support_vectors_)\n",
    "print (\"number of support vectors per class\")\n",
    "print (svm_model.n_support_)"
   ]
  },
  {
   "cell_type": "code",
   "execution_count": null,
   "metadata": {
    "collapsed": true
   },
   "outputs": [],
   "source": []
  }
 ],
 "metadata": {
  "kernelspec": {
   "display_name": "Python 3",
   "language": "python",
   "name": "python3"
  },
  "language_info": {
   "codemirror_mode": {
    "name": "ipython",
    "version": 3
   },
   "file_extension": ".py",
   "mimetype": "text/x-python",
   "name": "python",
   "nbconvert_exporter": "python",
   "pygments_lexer": "ipython3",
   "version": "3.5.2"
  }
 },
 "nbformat": 4,
 "nbformat_minor": 2
}

