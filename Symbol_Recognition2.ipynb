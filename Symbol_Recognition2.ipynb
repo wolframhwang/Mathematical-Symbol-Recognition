{
 "cells": [
  {
   "cell_type": "code",
   "execution_count": 1,
   "metadata": {
    "collapsed": true
   },
   "outputs": [],
   "source": [
    "import numpy as np\n",
    "import tensorflow as tf\n",
    "import matplotlib.pyplot as plt\n",
    "import pandas as pd\n",
    "import os\n",
    "import scipy.misc as misc\n",
    "from sklearn.model_selection import train_test_split\n",
    "%matplotlib inline"
   ]
  },
  {
   "cell_type": "code",
   "execution_count": 2,
   "metadata": {
    "collapsed": true
   },
   "outputs": [],
   "source": [
    "def scale(img):\n",
    "    return (img / 255.)"
   ]
  },
  {
   "cell_type": "code",
   "execution_count": 3,
   "metadata": {
    "scrolled": true
   },
   "outputs": [
    {
     "name": "stdout",
     "output_type": "stream",
     "text": [
      "k\n",
      "o\n"
     ]
    },
    {
     "name": "stderr",
     "output_type": "stream",
     "text": [
      "/usr/local/lib/python3.5/dist-packages/ipykernel_launcher.py:25: DeprecationWarning: `imread` is deprecated!\n",
      "`imread` is deprecated in SciPy 1.0.0, and will be removed in 1.2.0.\n",
      "Use ``imageio.imread`` instead.\n"
     ]
    },
    {
     "name": "stdout",
     "output_type": "stream",
     "text": [
      "]\n",
      "9\n",
      "neq\n",
      "z\n",
      "pi\n",
      "i\n",
      "phi\n",
      ")\n",
      "C\n",
      "G\n",
      "3\n",
      "5\n",
      "f\n",
      "ldots\n",
      "sigma\n",
      "!\n",
      "j\n",
      "7\n",
      "gamma\n",
      "exists\n",
      "1\n",
      "pm\n",
      "leq\n",
      "mu\n",
      "S\n",
      "Delta\n",
      "R\n",
      "q\n",
      "M\n",
      "y\n",
      "sum\n",
      "times\n",
      "}\n",
      "p\n",
      "rightarrow\n",
      "lim\n",
      "4\n",
      "l\n",
      "{\n",
      "+\n",
      "int\n",
      "alpha\n",
      "lt\n",
      "T\n",
      "=\n",
      "b\n",
      "6\n",
      "gt\n",
      "A\n",
      "N\n",
      "H\n",
      "-\n",
      "tan\n",
      "div\n",
      "cos\n",
      "theta\n",
      "2\n",
      "forall\n",
      "infty\n",
      "w\n",
      "X\n",
      "e\n",
      "8\n",
      "(\n",
      "geq\n",
      "sqrt\n",
      "v\n",
      "sin\n",
      ",\n",
      "[\n",
      "beta\n",
      "in\n",
      "log\n",
      "u\n",
      "lambda\n",
      "d\n",
      "forward_slash\n",
      "prime\n",
      "ascii_124\n",
      "0\n"
     ]
    }
   ],
   "source": [
    "## 데이터 importing\n",
    "\n",
    "pwd = os.getcwd()\n",
    "path = os.path.join(pwd,\"extracted_images\")\n",
    "l1=os.listdir(path = path)\n",
    "\n",
    "X_full=[]\n",
    "Y_full=[]\n",
    "label_list=[]\n",
    "\n",
    "i=0\n",
    "\n",
    "for dir in l1:\n",
    "    if(dir[0]==\".\"): continue # skip .DS_\n",
    "    path1 = os.path.join(path,dir)\n",
    "    allfiles = os.listdir(path1)\n",
    "    print(dir)\n",
    "    label_list.append(dir[0])\n",
    "    j=0\n",
    "    \n",
    "    for file in allfiles:\n",
    "        if(j>500): break\n",
    "        if(file[0:3]==\".DS\"): continue\n",
    "        t1 = os.path.join(path1,file)\n",
    "        a1 = misc.imread(t1).flatten()\n",
    "        X_full.append(scale(a1))\n",
    "        Y_full.append(i)\n",
    "        j+=1\n",
    "        \n",
    "    i+=1"
   ]
  },
  {
   "cell_type": "code",
   "execution_count": 4,
   "metadata": {
    "collapsed": true
   },
   "outputs": [],
   "source": [
    "XX=np.array(X_full)\n",
    "YY=np.array(Y_full)"
   ]
  },
  {
   "cell_type": "code",
   "execution_count": 6,
   "metadata": {},
   "outputs": [
    {
     "data": {
      "text/plain": [
       "<matplotlib.image.AxesImage at 0x7f277ecf7cf8>"
      ]
     },
     "execution_count": 6,
     "metadata": {},
     "output_type": "execute_result"
    },
    {
     "data": {
      "image/png": "[encoded data removed]",
      "text/plain": [
       "<matplotlib.figure.Figure at 0x7f277efaf048>"
      ]
     },
     "metadata": {},
     "output_type": "display_data"
    }
   ],
   "source": [
    "## 데이터 그려보기\n",
    "plt.imshow(XX[9991].reshape(45,45),cmap=plt.cm.gray)"
   ]
  },
  {
   "cell_type": "code",
   "execution_count": 7,
   "metadata": {
    "collapsed": true
   },
   "outputs": [],
   "source": [
    "## Split images\n",
    "X_train,X_test,y_train,y_test = train_test_split(XX,YY,random_state=77,test_size=.15)"
   ]
  },
  {
   "cell_type": "code",
   "execution_count": 8,
   "metadata": {
    "collapsed": true
   },
   "outputs": [],
   "source": [
    "sizeInput = X_train.shape[1]  # input vector size 45*45 이미지\n",
    "OutputVector = 82 # 82개 label \n",
    "\n",
    "# one hot encoding\n",
    "sam = np.eye(OutputVector)\n",
    "\n",
    "train_label=sam[y_train.flatten()-1]\n",
    "test_label =sam[y_test.flatten()-1]"
   ]
  },
  {
   "cell_type": "code",
   "execution_count": 9,
   "metadata": {},
   "outputs": [
    {
     "data": {
      "text/plain": [
       "(31477, 82)"
      ]
     },
     "execution_count": 9,
     "metadata": {},
     "output_type": "execute_result"
    }
   ],
   "source": [
    "train_label.shape"
   ]
  },
  {
   "cell_type": "code",
   "execution_count": 10,
   "metadata": {
    "collapsed": true
   },
   "outputs": [],
   "source": [
    "### CNN 모델링\n",
    "\n",
    "### 중간 학습 과정 변화\n",
    "\n",
    "class Model:\n",
    "    \n",
    "    def __init__(self,sess,name):\n",
    "        self.sess = sess\n",
    "        self.name = name\n",
    "        self._build_net()\n",
    "        \n",
    "    def _build_net(self):\n",
    "        \n",
    "        with tf.variable_scope(self.name):\n",
    "            \n",
    "            self.learning_rate=0.7 # 일단 0.5는 잘 된다\n",
    "            self.training = tf.placeholder(tf.bool)\n",
    "            \n",
    "            ### placeholder\n",
    "            self.X = tf.placeholder(tf.float32,[None,sizeInput])\n",
    "            self.Y = tf.placeholder(tf.float32,[None,OutputVector])\n",
    "            # 이미지 형식으로 형태 변환\n",
    "            self.X_img = tf.reshape(self.X,[-1,45,45,1]) \n",
    "            \n",
    "            ## conv layer 1 -> 5*5*32 filter\n",
    "            ## relu activation 함수 사용하고, kernel size는 5*5 , ouput filter 개수가 32개, stride는 1칸씩\n",
    "            ## max pooling 2*2 -> 23*23로 줄여짐\n",
    "            ## dropout with ratio 0.7\n",
    "            \n",
    "            with tf.variable_scope('layer1'):\n",
    "                conv1 = tf.layers.conv2d(self.X_img,filters=32,kernel_size=5,strides=1,\n",
    "                                         padding=\"SAME\",activation=tf.nn.relu) \n",
    "        \n",
    "                pool1 = tf.layers.max_pooling2d(conv1,pool_size=2,strides=2,padding=\"SAME\")\n",
    "            \n",
    "                dropout1 = tf.layers.dropout(pool1,rate=0.7,training=self.training)\n",
    "                \n",
    "            ## conv layer 2 -> 3*3*64 filters\n",
    "            ## relu activation 함수 사용하고, kernel size는 3*3 , ouput filter 개수가 64개, stride는 1칸씩\n",
    "            ## max pooling 2*2 -> 12*12로 줄여짐 (반올림)\n",
    "            ## dropout with ratio 0.7\n",
    "                \n",
    "            with tf.variable_scope('layer2'):\n",
    "                conv2 = tf.layers.conv2d(dropout1,filters=64,kernel_size=3,strides=1,\n",
    "                                        padding=\"SAME\",activation=tf.nn.relu)\n",
    "\n",
    "                pool2 = tf.layers.max_pooling2d(conv2,pool_size=2,strides=2,padding=\"SAME\")\n",
    "                dropout2 = tf.layers.dropout(pool2,rate=0.7,training=self.training)\n",
    "                \n",
    "            ## conv layer 3 -> 3*3*128 filters\n",
    "            ## relu activation 함수 사용하고, kernel size는 3*3 , ouput filter 개수가 128개, stride는 1칸씩\n",
    "            ## max pooling 2*2 -> 6*6로 줄여짐 \n",
    "            ## dropout with ratio 0.7\n",
    "\n",
    "            with tf.variable_scope('layer3'):\n",
    "                conv3 = tf.layers.conv2d(dropout2,filters=128,kernel_size=3,strides=1,\n",
    "                                        padding=\"SAME\",activation=tf.nn.relu)\n",
    "                pool3 = tf.layers.max_pooling2d(conv3,pool_size=2,strides=2,padding=\"SAME\")\n",
    "                dropout3 = tf.layers.dropout(pool3,rate=0.7,training=self.training)\n",
    "                \n",
    "            s1 = int(dropout3.shape[1])\n",
    "            \n",
    "            ###### fully connected layer 마지막으로 만들어줌\n",
    "            ## 6*6*128 -> output 1024개 \n",
    "            ## relu activation 사용함\n",
    "            \n",
    "            with tf.variable_scope('layer4'):\n",
    "                flat = tf.reshape(dropout3,[-1,s1*s1*128])\n",
    "                f4 = tf.layers.dense(flat,units=1024,activation=tf.nn.relu)\n",
    "                dropout4 = tf.layers.dropout(f4,rate=0.5,training=self.training)\n",
    "                \n",
    "            with tf.variable_scope('output'):\n",
    "                self.logits = tf.layers.dense(dropout4,units=OutputVector)\n",
    "                \n",
    "        self.cost = tf.reduce_mean(tf.nn.softmax_cross_entropy_with_logits(logits=self.logits,labels=self.Y))\n",
    "        self.optimizer = tf.train.AdadeltaOptimizer(self.learning_rate).minimize(self.cost)\n",
    "        \n",
    "        correct_prediction=tf.equal(tf.argmax(self.logits,1),tf.argmax(self.Y,1))\n",
    "        self.accuracy = tf.reduce_mean(tf.cast(correct_prediction,tf.float32))\n",
    "        \n",
    "        # 예측값 출력하는 함수\n",
    "    def predict(self,X_test,training=False):\n",
    "        return self.sess.run(self.logits,\n",
    "                            feed_dict={self.X:X_test,self.training:training})\n",
    "        # 정확도 측정\n",
    "    def get_accuracy(self,X_test,Y_test,training=False):\n",
    "        return self.sess.run(self.accuracy,\n",
    "                            feed_dict={self.X:X_test,self.Y:Y_test,self.training:training})\n",
    "        # 학습 함수\n",
    "    def train(self,x_data,y_data,training=True):\n",
    "        return self.sess.run([self.cost,self.optimizer],\n",
    "                            feed_dict={self.X:x_data,self.Y:y_data,self.training:training})"
   ]
  },
  {
   "cell_type": "code",
   "execution_count": 11,
   "metadata": {},
   "outputs": [
    {
     "name": "stdout",
     "output_type": "stream",
     "text": [
      "Start Training\n",
      "Epoch: 0001 cost =  4.4563434777\n",
      "Epoch: 0002 cost =  4.30307217768\n",
      "Epoch: 0003 cost =  2.80189485763\n",
      "Epoch: 0004 cost =  2.00118865101\n",
      "Epoch: 0005 cost =  1.71632247062\n",
      "Epoch: 0006 cost =  1.51648404872\n",
      "Epoch: 0007 cost =  1.35774272187\n",
      "Epoch: 0008 cost =  1.24080063317\n",
      "Epoch: 0009 cost =  1.13798805673\n",
      "Epoch: 0010 cost =  1.06032118942\n",
      "Epoch: 0011 cost =  0.989493504072\n",
      "Epoch: 0012 cost =  0.939421146918\n",
      "Epoch: 0013 cost =  0.892999843427\n",
      "Epoch: 0014 cost =  0.845671760428\n",
      "Epoch: 0015 cost =  0.802843244972\n",
      "Epoch: 0016 cost =  0.775041262056\n",
      "Epoch: 0017 cost =  0.742760783168\n",
      "Epoch: 0018 cost =  0.708530929818\n",
      "Epoch: 0019 cost =  0.689141770457\n",
      "Epoch: 0020 cost =  0.660717338134\n",
      "Epoch: 0021 cost =  0.639452415857\n",
      "Epoch: 0022 cost =  0.625130452168\n",
      "Epoch: 0023 cost =  0.599618798608\n",
      "Epoch: 0024 cost =  0.595991727273\n",
      "Epoch: 0025 cost =  0.576683306011\n",
      "Epoch: 0026 cost =  0.560828892479\n",
      "Epoch: 0027 cost =  0.549353835309\n",
      "Epoch: 0028 cost =  0.541733312569\n",
      "Epoch: 0029 cost =  0.523026025409\n",
      "Epoch: 0030 cost =  0.514293130985\n",
      "Epoch: 0031 cost =  0.506917370543\n",
      "Epoch: 0032 cost =  0.493036377202\n",
      "Epoch: 0033 cost =  0.485206882285\n",
      "Epoch: 0034 cost =  0.477757282318\n",
      "Epoch: 0035 cost =  0.474067399077\n",
      "Epoch: 0036 cost =  0.461833133629\n",
      "Epoch: 0037 cost =  0.455433653229\n",
      "Epoch: 0038 cost =  0.445647353579\n",
      "Epoch: 0039 cost =  0.437393209547\n",
      "Epoch: 0040 cost =  0.428373028044\n",
      "Epoch: 0041 cost =  0.424835102763\n",
      "Epoch: 0042 cost =  0.412967898948\n",
      "Epoch: 0043 cost =  0.419554379336\n",
      "Epoch: 0044 cost =  0.405182478249\n",
      "Epoch: 0045 cost =  0.406937169042\n",
      "Epoch: 0046 cost =  0.401242251799\n",
      "Epoch: 0047 cost =  0.394305501204\n",
      "Epoch: 0048 cost =  0.392508714632\n",
      "Epoch: 0049 cost =  0.37824529865\n",
      "Epoch: 0050 cost =  0.377492003\n",
      "Learning Finished\n"
     ]
    }
   ],
   "source": [
    "config = tf.ConfigProto(\n",
    "        device_count = {'GPU': 0}\n",
    "    )\n",
    "\n",
    "sess = tf.Session(config=config)\n",
    "\n",
    "models = Model(sess,name='m1')\n",
    "\n",
    "sess.run(tf.global_variables_initializer())\n",
    "\n",
    "\n",
    "### hyper parameter\n",
    "\n",
    "## 배치사이즈 200, 50회 학습\n",
    "\n",
    "batch_size = 200\n",
    "train_epoch = 50\n",
    "\n",
    "num_batch = int(len(X_train)/batch_size)\n",
    "\n",
    "training_acc_cnn=[]\n",
    "test_acc_cnn=[]\n",
    "\n",
    "print(\"Start Training\")\n",
    "\n",
    "for epoch in range(train_epoch):\n",
    "    \n",
    "    p1 = np.random.permutation(len(X_train))\n",
    "    x_data = X_train[p1]\n",
    "    y_data = train_label[p1]\n",
    "    \n",
    "    p2 = np.random.permutation(len(X_test))\n",
    "    x_test = X_test[p2]\n",
    "    y_test = test_label[p2]\n",
    "    \n",
    "    avg_cost=0.\n",
    "    \n",
    "    for i in range(0,num_batch):\n",
    "        batch_xs,batch_ys = x_data[i*batch_size:((i+1)*batch_size)],y_data[i*batch_size:((i+1)*batch_size)]\n",
    "        \n",
    "        c,_ = models.train(batch_xs,batch_ys)\n",
    "        avg_cost += c/(num_batch)\n",
    "        \n",
    "    print('Epoch:', '%04d' % (epoch+1),'cost = ',avg_cost)\n",
    "    \n",
    "    training_acc_cnn.append(models.get_accuracy(x_data,y_data))\n",
    "    test_acc_cnn.append(models.get_accuracy(x_test,y_test))\n",
    "    \n",
    "print('Learning Finished')\n",
    "    \n",
    "sess.close()"
   ]
  },
  {
   "cell_type": "code",
   "execution_count": 14,
   "metadata": {},
   "outputs": [
    {
     "name": "stdout",
     "output_type": "stream",
     "text": [
      "Start Training\n",
      "Epoch: 0001 cost =  633.72449539\n",
      "Epoch: 0002 cost =  180.854275309\n",
      "Epoch: 0003 cost =  99.8821235948\n",
      "Epoch: 0004 cost =  39.087531679\n",
      "Epoch: 0005 cost =  32.2413267877\n",
      "Epoch: 0006 cost =  51.8353551998\n",
      "Epoch: 0007 cost =  64.4091431685\n",
      "Epoch: 0008 cost =  41.1158266553\n",
      "Epoch: 0009 cost =  12.4224438758\n",
      "Epoch: 0010 cost =  20.3165844929\n",
      "Epoch: 0011 cost =  30.7426229526\n",
      "Epoch: 0012 cost =  41.066606388\n",
      "Epoch: 0013 cost =  22.7660311255\n",
      "Epoch: 0014 cost =  16.9986742864\n",
      "Epoch: 0015 cost =  54.8789619276\n",
      "Epoch: 0016 cost =  50.3550457924\n",
      "Epoch: 0017 cost =  29.5931101514\n",
      "Epoch: 0018 cost =  12.2879201971\n",
      "Epoch: 0019 cost =  7.61515110921\n",
      "Epoch: 0020 cost =  10.2298718228\n",
      "Epoch: 0021 cost =  20.8479712298\n",
      "Epoch: 0022 cost =  50.2595236954\n",
      "Epoch: 0023 cost =  30.4075428544\n",
      "Epoch: 0024 cost =  9.63181642362\n",
      "Epoch: 0025 cost =  12.3772252745\n",
      "Epoch: 0026 cost =  14.9965745112\n",
      "Epoch: 0027 cost =  28.5517232008\n",
      "Epoch: 0028 cost =  28.5085706832\n",
      "Epoch: 0029 cost =  9.18313154445\n",
      "Epoch: 0030 cost =  10.4635142126\n",
      "Epoch: 0031 cost =  18.0236963588\n",
      "Epoch: 0032 cost =  32.4977404358\n",
      "Epoch: 0033 cost =  17.0000340164\n",
      "Epoch: 0034 cost =  16.4870714686\n",
      "Epoch: 0035 cost =  16.6702633329\n",
      "Epoch: 0036 cost =  6.9664751557\n",
      "Epoch: 0037 cost =  15.7318682488\n",
      "Epoch: 0038 cost =  17.2677467948\n",
      "Epoch: 0039 cost =  6.89581553344\n",
      "Epoch: 0040 cost =  15.3052995038\n",
      "Epoch: 0041 cost =  20.8159105702\n",
      "Epoch: 0042 cost =  15.0190777779\n",
      "Epoch: 0043 cost =  12.0558213975\n",
      "Epoch: 0044 cost =  15.9753223286\n",
      "Epoch: 0045 cost =  18.1121474497\n",
      "Epoch: 0046 cost =  8.45858362526\n",
      "Epoch: 0047 cost =  7.3818612038\n",
      "Epoch: 0048 cost =  10.2112797856\n",
      "Epoch: 0049 cost =  9.33847063059\n",
      "Epoch: 0050 cost =  10.4023280766\n",
      "Learning Finished\n"
     ]
    }
   ],
   "source": [
    "### 회귀모형 적합\n",
    "\n",
    "X = tf.placeholder(tf.float32,[None,sizeInput])\n",
    "Y = tf.placeholder(tf.float32,[None,OutputVector])\n",
    "\n",
    "W = tf.Variable(tf.random_normal([sizeInput,OutputVector],mean=0,stddev=0.1))\n",
    "b = tf.Variable(tf.zeros([OutputVector]))\n",
    "\n",
    "y_hat = tf.matmul(X,W) + b\n",
    "\n",
    "learning_rate = 0.05\n",
    "\n",
    "## 비용함수 정의 및 Adam optimizer로 최소화\n",
    "\n",
    "cost = tf.reduce_mean(tf.nn.softmax_cross_entropy_with_logits(logits=y_hat,labels=Y))\n",
    "optimizer = tf.train.AdamOptimizer(learning_rate).minimize(cost)\n",
    "\n",
    "correct_prediction = tf.equal(tf.argmax(y_hat,1),tf.argmax(Y,1))\n",
    "accuracy = tf.reduce_mean(tf.cast(correct_prediction,tf.float32))\n",
    "\n",
    "\n",
    "batch_size = 200\n",
    "train_epoch = 50\n",
    "\n",
    "num_batch = int(len(X_train)/batch_size)\n",
    "\n",
    "training_acc_reg=[]\n",
    "test_acc_reg=[]\n",
    "\n",
    "print(\"Start Training\")\n",
    "\n",
    "config = tf.ConfigProto(\n",
    "        device_count = {'GPU': 0}\n",
    "    )\n",
    "\n",
    "sess = tf.Session(config=config)\n",
    "\n",
    "sess.run(tf.global_variables_initializer())\n",
    "\n",
    "for epoch in range(train_epoch):\n",
    "    \n",
    "    p1 = np.random.permutation(len(X_train))\n",
    "    x_data = X_train[p1]\n",
    "    y_data = train_label[p1]\n",
    "    \n",
    "    p2 = np.random.permutation(len(X_test))\n",
    "    x_test = X_test[p2]\n",
    "    y_test = test_label[p2]\n",
    "    \n",
    "    avg_cost=0.\n",
    "    \n",
    "    for i in range(0,num_batch):\n",
    "        batch_xs,batch_ys = x_data[i*batch_size:((i+1)*batch_size)],y_data[i*batch_size:((i+1)*batch_size)]\n",
    "        \n",
    "        c,_ = sess.run([cost,optimizer],feed_dict={X:batch_xs,Y:batch_ys})\n",
    "        avg_cost += c/(num_batch)\n",
    "        \n",
    "    print('Epoch:', '%04d' % (epoch+1),'cost = ',avg_cost)\n",
    "    \n",
    "    training_acc_reg.append(sess.run(accuracy,feed_dict={X:x_data,Y:y_data}))\n",
    "    test_acc_reg.append(sess.run(accuracy,feed_dict={X:x_test,Y:y_test}))\n",
    "    \n",
    "print('Learning Finished')"
   ]
  },
  {
   "cell_type": "code",
   "execution_count": 18,
   "metadata": {},
   "outputs": [
    {
     "data": {
      "text/plain": [
       "<matplotlib.text.Text at 0x7f26d86d92b0>"
      ]
     },
     "execution_count": 18,
     "metadata": {},
     "output_type": "execute_result"
    },
    {
     "data": {
      "image/png": "[encoded data removed]",
      "text/plain": [
       "<matplotlib.figure.Figure at 0x7f26d8795630>"
      ]
     },
     "metadata": {},
     "output_type": "display_data"
    }
   ],
   "source": [
    "plt.plot(test_acc_reg,'bo',label=\"test_reg\")\n",
    "plt.plot(test_acc_reg,'b--')\n",
    "plt.plot(test_acc_cnn,'ro',label=\"test_cnn\")\n",
    "plt.plot(test_acc_cnn,'r--')\n",
    "plt.ylabel('Accuracy')  # Accuracy label\n",
    "plt.xlabel('Epoch')\n",
    "plt.title('Plot of Test Accuracies Reg vs CNN')\n",
    "plt.legend()\n",
    "ax = plt.gca()\n",
    "ymin, ymax = ax.get_ylim()\n",
    "xmin, xmax = ax.get_xlim()\n",
    "midXLoc = (xmax - xmin)/2\n",
    "topYLoc = ymax - (ymax-ymin)*0.7\n",
    "plt.text(midXLoc, topYLoc, 'Num Epochs: ' + str(train_epoch) + '\\nBatch Size: ' + str(batch_size), ha='center', va='top')"
   ]
  },
  {
   "cell_type": "code",
   "execution_count": null,
   "metadata": {
    "collapsed": true
   },
   "outputs": [],
   "source": [
    "plt.savefig('Code2_test_error', dpi=300)"
   ]
  },
  {
   "cell_type": "code",
   "execution_count": 19,
   "metadata": {},
   "outputs": [
    {
     "data": {
      "text/plain": [
       "0.90765077"
      ]
     },
     "execution_count": 19,
     "metadata": {},
     "output_type": "execute_result"
    }
   ],
   "source": [
    "np.max(test_acc_cnn)"
   ]
  }
 ],
 "metadata": {
  "kernelspec": {
   "display_name": "Python 3",
   "language": "python",
   "name": "python3"
  },
  "language_info": {
   "codemirror_mode": {
    "name": "ipython",
    "version": 3
   },
   "file_extension": ".py",
   "mimetype": "text/x-python",
   "name": "python",
   "nbconvert_exporter": "python",
   "pygments_lexer": "ipython3",
   "version": "3.6.1"
  }
 },
 "nbformat": 4,
 "nbformat_minor": 2
}
